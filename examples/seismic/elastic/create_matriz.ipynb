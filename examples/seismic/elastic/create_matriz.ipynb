{
 "cells": [
  {
   "cell_type": "markdown",
   "metadata": {},
   "source": [
    "## Criação da matriz Visco\n",
    "\n",
    "Criação baseada na implementação presente no repositório que Peterson me passou."
   ]
  },
  {
   "cell_type": "code",
   "execution_count": 1,
   "metadata": {
    "tags": []
   },
   "outputs": [],
   "source": [
    "from sympy import symbols, Matrix\n",
    "from examples.seismic.elastic import ElasticWaveSolver\n",
    "from examples.seismic import demo_model, setup_geometry, seismic_args\n",
    "from examples.seismic.elastic.operators import iso_elastic_tensor\n",
    "from devito import div\n",
    "import numpy as np"
   ]
  },
  {
   "cell_type": "code",
   "execution_count": 2,
   "metadata": {
    "tags": []
   },
   "outputs": [
    {
     "name": "stderr",
     "output_type": "stream",
     "text": [
      "Operator `initdamp` ran in 0.01 s\n",
      "Operator `pad_lam` ran in 0.01 s\n",
      "Operator `pad_mu` ran in 0.01 s\n",
      "Operator `pad_b` ran in 0.01 s\n"
     ]
    }
   ],
   "source": [
    "shape=(50, 50)\n",
    "spacing=(15.0, 15.0)\n",
    "tn=500.\n",
    "space_order=4\n",
    "nbl=10\n",
    "preset = 'layers-elastic'\n",
    "\n",
    "model = demo_model(preset, space_order=space_order, shape=shape, nbl=nbl,\n",
    "                       dtype=np.float32, spacing=spacing)\n"
   ]
  },
  {
   "cell_type": "code",
   "execution_count": 3,
   "metadata": {
    "tags": []
   },
   "outputs": [
    {
     "name": "stdout",
     "output_type": "stream",
     "text": [
      "Loucura\n"
     ]
    },
    {
     "data": {
      "text/latex": [
       "$\\displaystyle \\left[\\begin{matrix}\\operatorname{lam}{\\left(x,y \\right)} + 2 \\mu{\\left(x,y \\right)} & \\operatorname{lam}{\\left(x,y \\right)} & 0\\\\\\operatorname{lam}{\\left(x,y \\right)} & \\operatorname{lam}{\\left(x,y \\right)} + 2 \\mu{\\left(x,y \\right)} & 0\\\\0 & 0 & \\mu{\\left(x,y \\right)}\\end{matrix}\\right]$"
      ],
      "text/plain": [
       "Matrix([\n",
       "[lam(x, y) + 2*mu(x, y),              lam(x, y),        0],\n",
       "[             lam(x, y), lam(x, y) + 2*mu(x, y),        0],\n",
       "[                     0,                      0, mu(x, y)]])"
      ]
     },
     "execution_count": 3,
     "metadata": {},
     "output_type": "execute_result"
    }
   ],
   "source": [
    "\n",
    "v = iso_elastic_tensor(model)\n",
    "v"
   ]
  },
  {
   "cell_type": "code",
   "execution_count": null,
   "metadata": {},
   "outputs": [],
   "source": []
  }
 ],
 "metadata": {
  "kernelspec": {
   "display_name": "Python 3",
   "language": "python",
   "name": "python3"
  },
  "language_info": {
   "codemirror_mode": {
    "name": "ipython",
    "version": 3
   },
   "file_extension": ".py",
   "mimetype": "text/x-python",
   "name": "python",
   "nbconvert_exporter": "python",
   "pygments_lexer": "ipython3",
   "version": "3.9.4"
  }
 },
 "nbformat": 4,
 "nbformat_minor": 4
}
