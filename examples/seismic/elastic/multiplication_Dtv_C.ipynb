{
 "cells": [
  {
   "cell_type": "markdown",
   "metadata": {},
   "source": [
    "## Criação da matriz Visco\n",
    "\n",
    "Criação baseada na implementação presente no repositório que Peterson me passou."
   ]
  },
  {
   "cell_type": "code",
   "execution_count": 1,
   "metadata": {},
   "outputs": [],
   "source": [
    "from examples.seismic import demo_model\n",
    "from examples.seismic.elastic.operators import iso_elastic_tensor\n",
    "import numpy as np\n",
    "from devito import *"
   ]
  },
  {
   "cell_type": "code",
   "execution_count": 2,
   "metadata": {},
   "outputs": [
    {
     "name": "stderr",
     "output_type": "stream",
     "text": [
      "Operator `initdamp` ran in 0.01 s\n",
      "Operator `pad_lam` ran in 0.01 s\n",
      "Operator `pad_mu` ran in 0.01 s\n",
      "Operator `pad_b` ran in 0.01 s\n"
     ]
    }
   ],
   "source": [
    "shape=(50, 50, 50)\n",
    "spacing=(15.0, 15.0, 15.0)\n",
    "tn=500.\n",
    "space_order=4\n",
    "nbl=10\n",
    "preset = 'layers-elastic'\n",
    "\n",
    "model = demo_model(preset, space_order=space_order, shape=shape, nbl=nbl,\n",
    "                       dtype=np.float32, spacing=spacing)\n"
   ]
  },
  {
   "cell_type": "code",
   "execution_count": 3,
   "metadata": {},
   "outputs": [
    {
     "name": "stdout",
     "output_type": "stream",
     "text": [
      "Loucura\n"
     ]
    },
    {
     "data": {
      "text/latex": [
       "$\\displaystyle \\left[\\begin{matrix}\\operatorname{lam}{\\left(x,y,z \\right)} + 2 \\mu{\\left(x,y,z \\right)} & \\operatorname{lam}{\\left(x,y,z \\right)} & \\operatorname{lam}{\\left(x,y,z \\right)} & 0 & 0 & 0\\\\\\operatorname{lam}{\\left(x,y,z \\right)} & \\operatorname{lam}{\\left(x,y,z \\right)} + 2 \\mu{\\left(x,y,z \\right)} & \\operatorname{lam}{\\left(x,y,z \\right)} & 0 & 0 & 0\\\\\\operatorname{lam}{\\left(x,y,z \\right)} & \\operatorname{lam}{\\left(x,y,z \\right)} & \\operatorname{lam}{\\left(x,y,z \\right)} + 2 \\mu{\\left(x,y,z \\right)} & 0 & 0 & 0\\\\0 & 0 & 0 & \\mu{\\left(x,y,z \\right)} & 0 & 0\\\\0 & 0 & 0 & 0 & \\mu{\\left(x,y,z \\right)} & 0\\\\0 & 0 & 0 & 0 & 0 & \\mu{\\left(x,y,z \\right)}\\end{matrix}\\right]$"
      ],
      "text/plain": [
       "Matrix([\n",
       "[lam(x, y, z) + 2*mu(x, y, z),                 lam(x, y, z),                 lam(x, y, z),           0,           0,           0],\n",
       "[                lam(x, y, z), lam(x, y, z) + 2*mu(x, y, z),                 lam(x, y, z),           0,           0,           0],\n",
       "[                lam(x, y, z),                 lam(x, y, z), lam(x, y, z) + 2*mu(x, y, z),           0,           0,           0],\n",
       "[                           0,                            0,                            0, mu(x, y, z),           0,           0],\n",
       "[                           0,                            0,                            0,           0, mu(x, y, z),           0],\n",
       "[                           0,                            0,                            0,           0,           0, mu(x, y, z)]])"
      ]
     },
     "execution_count": 3,
     "metadata": {},
     "output_type": "execute_result"
    }
   ],
   "source": [
    "C = iso_elastic_tensor(model)\n",
    "C"
   ]
  },
  {
   "cell_type": "markdown",
   "metadata": {},
   "source": [
    "## Obtenção da matriz resultante da aplicação da matrix Dt em v"
   ]
  },
  {
   "cell_type": "code",
   "execution_count": 4,
   "metadata": {},
   "outputs": [
    {
     "data": {
      "text/latex": [
       "$\\displaystyle \\left[\\begin{matrix}\\frac{\\partial}{\\partial x} \\operatorname{v_{x}}{\\left(t,x + \\frac{h_{x}}{2},y,z \\right)}\\\\\\frac{\\partial}{\\partial y} \\operatorname{v_{y}}{\\left(t,x,y + \\frac{h_{y}}{2},z \\right)}\\\\\\frac{\\partial}{\\partial z} \\operatorname{v_{z}}{\\left(t,x,y,z + \\frac{h_{z}}{2} \\right)}\\\\\\frac{\\partial}{\\partial z} \\operatorname{v_{y}}{\\left(t,x,y + \\frac{h_{y}}{2},z \\right)} + \\frac{\\partial}{\\partial y} \\operatorname{v_{z}}{\\left(t,x,y,z + \\frac{h_{z}}{2} \\right)}\\\\\\frac{\\partial}{\\partial z} \\operatorname{v_{x}}{\\left(t,x + \\frac{h_{x}}{2},y,z \\right)} + \\frac{\\partial}{\\partial x} \\operatorname{v_{z}}{\\left(t,x,y,z + \\frac{h_{z}}{2} \\right)}\\\\\\frac{\\partial}{\\partial y} \\operatorname{v_{x}}{\\left(t,x + \\frac{h_{x}}{2},y,z \\right)} + \\frac{\\partial}{\\partial x} \\operatorname{v_{y}}{\\left(t,x,y + \\frac{h_{y}}{2},z \\right)}\\end{matrix}\\right]$"
      ],
      "text/plain": [
       "Matrix([\n",
       "[                                         Derivative(v_x(t, x + h_x/2, y, z), x)],\n",
       "[                                         Derivative(v_y(t, x, y + h_y/2, z), y)],\n",
       "[                                         Derivative(v_z(t, x, y, z + h_z/2), z)],\n",
       "[Derivative(v_y(t, x, y + h_y/2, z), z) + Derivative(v_z(t, x, y, z + h_z/2), y)],\n",
       "[Derivative(v_x(t, x + h_x/2, y, z), z) + Derivative(v_z(t, x, y, z + h_z/2), x)],\n",
       "[Derivative(v_x(t, x + h_x/2, y, z), y) + Derivative(v_y(t, x, y + h_y/2, z), x)]])"
      ]
     },
     "execution_count": 4,
     "metadata": {},
     "output_type": "execute_result"
    }
   ],
   "source": [
    "grid = Grid(shape=(9,9,9), extent=(80,80,80))\n",
    "\n",
    "so = 2\n",
    "\n",
    "v = VectorTimeFunction(name='v', grid=model.grid, space_order=so, time_order=1)\n",
    "Dtv = S(v)\n",
    "Dtv"
   ]
  },
  {
   "cell_type": "code",
   "execution_count": 5,
   "metadata": {},
   "outputs": [
    {
     "data": {
      "text/latex": [
       "$\\displaystyle \\left[\\begin{matrix}\\left(\\operatorname{lam}{\\left(x,y,z \\right)} + 2 \\mu{\\left(x,y,z \\right)}\\right) \\frac{\\partial}{\\partial x} \\operatorname{v_{x}}{\\left(t,x + \\frac{h_{x}}{2},y,z \\right)} + \\operatorname{lam}{\\left(x,y,z \\right)} \\frac{\\partial}{\\partial y} \\operatorname{v_{y}}{\\left(t,x,y + \\frac{h_{y}}{2},z \\right)} + \\operatorname{lam}{\\left(x,y,z \\right)} \\frac{\\partial}{\\partial z} \\operatorname{v_{z}}{\\left(t,x,y,z + \\frac{h_{z}}{2} \\right)}\\\\\\left(\\operatorname{lam}{\\left(x,y,z \\right)} + 2 \\mu{\\left(x,y,z \\right)}\\right) \\frac{\\partial}{\\partial y} \\operatorname{v_{y}}{\\left(t,x,y + \\frac{h_{y}}{2},z \\right)} + \\operatorname{lam}{\\left(x,y,z \\right)} \\frac{\\partial}{\\partial x} \\operatorname{v_{x}}{\\left(t,x + \\frac{h_{x}}{2},y,z \\right)} + \\operatorname{lam}{\\left(x,y,z \\right)} \\frac{\\partial}{\\partial z} \\operatorname{v_{z}}{\\left(t,x,y,z + \\frac{h_{z}}{2} \\right)}\\\\\\left(\\operatorname{lam}{\\left(x,y,z \\right)} + 2 \\mu{\\left(x,y,z \\right)}\\right) \\frac{\\partial}{\\partial z} \\operatorname{v_{z}}{\\left(t,x,y,z + \\frac{h_{z}}{2} \\right)} + \\operatorname{lam}{\\left(x,y,z \\right)} \\frac{\\partial}{\\partial x} \\operatorname{v_{x}}{\\left(t,x + \\frac{h_{x}}{2},y,z \\right)} + \\operatorname{lam}{\\left(x,y,z \\right)} \\frac{\\partial}{\\partial y} \\operatorname{v_{y}}{\\left(t,x,y + \\frac{h_{y}}{2},z \\right)}\\\\\\left(\\frac{\\partial}{\\partial z} \\operatorname{v_{y}}{\\left(t,x,y + \\frac{h_{y}}{2},z \\right)} + \\frac{\\partial}{\\partial y} \\operatorname{v_{z}}{\\left(t,x,y,z + \\frac{h_{z}}{2} \\right)}\\right) \\mu{\\left(x,y,z \\right)}\\\\\\left(\\frac{\\partial}{\\partial z} \\operatorname{v_{x}}{\\left(t,x + \\frac{h_{x}}{2},y,z \\right)} + \\frac{\\partial}{\\partial x} \\operatorname{v_{z}}{\\left(t,x,y,z + \\frac{h_{z}}{2} \\right)}\\right) \\mu{\\left(x,y,z \\right)}\\\\\\left(\\frac{\\partial}{\\partial y} \\operatorname{v_{x}}{\\left(t,x + \\frac{h_{x}}{2},y,z \\right)} + \\frac{\\partial}{\\partial x} \\operatorname{v_{y}}{\\left(t,x,y + \\frac{h_{y}}{2},z \\right)}\\right) \\mu{\\left(x,y,z \\right)}\\end{matrix}\\right]$"
      ],
      "text/plain": [
       "Matrix([\n",
       "[(lam(x, y, z) + 2*mu(x, y, z))*Derivative(v_x(t, x + h_x/2, y, z), x) + lam(x, y, z)*Derivative(v_y(t, x, y + h_y/2, z), y) + lam(x, y, z)*Derivative(v_z(t, x, y, z + h_z/2), z)],\n",
       "[(lam(x, y, z) + 2*mu(x, y, z))*Derivative(v_y(t, x, y + h_y/2, z), y) + lam(x, y, z)*Derivative(v_x(t, x + h_x/2, y, z), x) + lam(x, y, z)*Derivative(v_z(t, x, y, z + h_z/2), z)],\n",
       "[(lam(x, y, z) + 2*mu(x, y, z))*Derivative(v_z(t, x, y, z + h_z/2), z) + lam(x, y, z)*Derivative(v_x(t, x + h_x/2, y, z), x) + lam(x, y, z)*Derivative(v_y(t, x, y + h_y/2, z), y)],\n",
       "[                                                                                    (Derivative(v_y(t, x, y + h_y/2, z), z) + Derivative(v_z(t, x, y, z + h_z/2), y))*mu(x, y, z)],\n",
       "[                                                                                    (Derivative(v_x(t, x + h_x/2, y, z), z) + Derivative(v_z(t, x, y, z + h_z/2), x))*mu(x, y, z)],\n",
       "[                                                                                    (Derivative(v_x(t, x + h_x/2, y, z), y) + Derivative(v_y(t, x, y + h_y/2, z), x))*mu(x, y, z)]])"
      ]
     },
     "execution_count": 5,
     "metadata": {},
     "output_type": "execute_result"
    }
   ],
   "source": [
    "result = C*Dtv\n",
    "result"
   ]
  },
  {
   "cell_type": "code",
   "execution_count": 6,
   "metadata": {},
   "outputs": [
    {
     "data": {
      "text/latex": [
       "$\\displaystyle \\left[\\begin{matrix}\\operatorname{t_{xx}}{\\left(t,x,y,z \\right)} & \\operatorname{t_{xy}}{\\left(t,x + \\frac{h_{x}}{2},y + \\frac{h_{y}}{2},z \\right)} & \\operatorname{t_{xz}}{\\left(t,x + \\frac{h_{x}}{2},y,z + \\frac{h_{z}}{2} \\right)}\\\\\\operatorname{t_{xy}}{\\left(t,x + \\frac{h_{x}}{2},y + \\frac{h_{y}}{2},z \\right)} & \\operatorname{t_{yy}}{\\left(t,x,y,z \\right)} & \\operatorname{t_{yz}}{\\left(t,x,y + \\frac{h_{y}}{2},z + \\frac{h_{z}}{2} \\right)}\\\\\\operatorname{t_{xz}}{\\left(t,x + \\frac{h_{x}}{2},y,z + \\frac{h_{z}}{2} \\right)} & \\operatorname{t_{yz}}{\\left(t,x,y + \\frac{h_{y}}{2},z + \\frac{h_{z}}{2} \\right)} & \\operatorname{t_{zz}}{\\left(t,x,y,z \\right)}\\end{matrix}\\right]$"
      ],
      "text/plain": [
       "Matrix([\n",
       "[                t_xx(t, x, y, z), t_xy(t, x + h_x/2, y + h_y/2, z), t_xz(t, x + h_x/2, y, z + h_z/2)],\n",
       "[t_xy(t, x + h_x/2, y + h_y/2, z),                 t_yy(t, x, y, z), t_yz(t, x, y + h_y/2, z + h_z/2)],\n",
       "[t_xz(t, x + h_x/2, y, z + h_z/2), t_yz(t, x, y + h_y/2, z + h_z/2),                 t_zz(t, x, y, z)]])"
      ]
     },
     "execution_count": 6,
     "metadata": {},
     "output_type": "execute_result"
    }
   ],
   "source": [
    "tau = TensorTimeFunction(name='t', grid=model.grid, space_order=so, time_order=1, vec=True)\n",
    "tau"
   ]
  },
  {
   "cell_type": "code",
   "execution_count": 7,
   "metadata": {},
   "outputs": [
    {
     "ename": "ShapeError",
     "evalue": "Matrix size mismatch: (3, 3) + (6, 1)",
     "output_type": "error",
     "traceback": [
      "\u001b[0;31m---------------------------------------------------------------------------\u001b[0m",
      "\u001b[0;31mShapeError\u001b[0m                                Traceback (most recent call last)",
      "Input \u001b[0;32mIn [7]\u001b[0m, in \u001b[0;36m<cell line: 1>\u001b[0;34m()\u001b[0m\n\u001b[0;32m----> 1\u001b[0m A \u001b[38;5;241m=\u001b[39m \u001b[43mtau\u001b[49m\u001b[38;5;241;43m.\u001b[39;49m\u001b[43mdt\u001b[49m\u001b[43m \u001b[49m\u001b[38;5;241;43m-\u001b[39;49m\u001b[43m \u001b[49m\u001b[43mC\u001b[49m\u001b[38;5;241;43m*\u001b[39;49m\u001b[43mDtv\u001b[49m\n\u001b[1;32m      2\u001b[0m A\n",
      "File \u001b[0;32m~/.local/lib/python3.9/site-packages/sympy/core/decorators.py:106\u001b[0m, in \u001b[0;36mcall_highest_priority.<locals>.priority_decorator.<locals>.binary_op_wrapper\u001b[0;34m(self, other)\u001b[0m\n\u001b[1;32m    104\u001b[0m         \u001b[38;5;28;01mif\u001b[39;00m f \u001b[38;5;129;01mis\u001b[39;00m \u001b[38;5;129;01mnot\u001b[39;00m \u001b[38;5;28;01mNone\u001b[39;00m:\n\u001b[1;32m    105\u001b[0m             \u001b[38;5;28;01mreturn\u001b[39;00m f(\u001b[38;5;28mself\u001b[39m)\n\u001b[0;32m--> 106\u001b[0m \u001b[38;5;28;01mreturn\u001b[39;00m \u001b[43mfunc\u001b[49m\u001b[43m(\u001b[49m\u001b[38;5;28;43mself\u001b[39;49m\u001b[43m,\u001b[49m\u001b[43m \u001b[49m\u001b[43mother\u001b[49m\u001b[43m)\u001b[49m\n",
      "File \u001b[0;32m~/.local/lib/python3.9/site-packages/sympy/matrices/common.py:3009\u001b[0m, in \u001b[0;36mMatrixArithmetic.__sub__\u001b[0;34m(self, a)\u001b[0m\n\u001b[1;32m   3007\u001b[0m \u001b[38;5;129m@call_highest_priority\u001b[39m(\u001b[38;5;124m'\u001b[39m\u001b[38;5;124m__rsub__\u001b[39m\u001b[38;5;124m'\u001b[39m)\n\u001b[1;32m   3008\u001b[0m \u001b[38;5;28;01mdef\u001b[39;00m \u001b[38;5;21m__sub__\u001b[39m(\u001b[38;5;28mself\u001b[39m, a):\n\u001b[0;32m-> 3009\u001b[0m     \u001b[38;5;28;01mreturn\u001b[39;00m \u001b[38;5;28;43mself\u001b[39;49m\u001b[43m \u001b[49m\u001b[38;5;241;43m+\u001b[39;49m\u001b[43m \u001b[49m\u001b[43m(\u001b[49m\u001b[38;5;241;43m-\u001b[39;49m\u001b[43ma\u001b[49m\u001b[43m)\u001b[49m\n",
      "File \u001b[0;32m~/.local/lib/python3.9/site-packages/sympy/core/decorators.py:106\u001b[0m, in \u001b[0;36mcall_highest_priority.<locals>.priority_decorator.<locals>.binary_op_wrapper\u001b[0;34m(self, other)\u001b[0m\n\u001b[1;32m    104\u001b[0m         \u001b[38;5;28;01mif\u001b[39;00m f \u001b[38;5;129;01mis\u001b[39;00m \u001b[38;5;129;01mnot\u001b[39;00m \u001b[38;5;28;01mNone\u001b[39;00m:\n\u001b[1;32m    105\u001b[0m             \u001b[38;5;28;01mreturn\u001b[39;00m f(\u001b[38;5;28mself\u001b[39m)\n\u001b[0;32m--> 106\u001b[0m \u001b[38;5;28;01mreturn\u001b[39;00m \u001b[43mfunc\u001b[49m\u001b[43m(\u001b[49m\u001b[38;5;28;43mself\u001b[39;49m\u001b[43m,\u001b[49m\u001b[43m \u001b[49m\u001b[43mother\u001b[49m\u001b[43m)\u001b[49m\n",
      "File \u001b[0;32m~/.local/lib/python3.9/site-packages/sympy/matrices/common.py:2714\u001b[0m, in \u001b[0;36mMatrixArithmetic.__add__\u001b[0;34m(self, other)\u001b[0m\n\u001b[1;32m   2712\u001b[0m \u001b[38;5;28;01mif\u001b[39;00m \u001b[38;5;28mhasattr\u001b[39m(other, \u001b[38;5;124m'\u001b[39m\u001b[38;5;124mshape\u001b[39m\u001b[38;5;124m'\u001b[39m):\n\u001b[1;32m   2713\u001b[0m     \u001b[38;5;28;01mif\u001b[39;00m \u001b[38;5;28mself\u001b[39m\u001b[38;5;241m.\u001b[39mshape \u001b[38;5;241m!=\u001b[39m other\u001b[38;5;241m.\u001b[39mshape:\n\u001b[0;32m-> 2714\u001b[0m         \u001b[38;5;28;01mraise\u001b[39;00m ShapeError(\u001b[38;5;124m\"\u001b[39m\u001b[38;5;124mMatrix size mismatch: \u001b[39m\u001b[38;5;132;01m%s\u001b[39;00m\u001b[38;5;124m + \u001b[39m\u001b[38;5;132;01m%s\u001b[39;00m\u001b[38;5;124m\"\u001b[39m \u001b[38;5;241m%\u001b[39m (\n\u001b[1;32m   2715\u001b[0m             \u001b[38;5;28mself\u001b[39m\u001b[38;5;241m.\u001b[39mshape, other\u001b[38;5;241m.\u001b[39mshape))\n\u001b[1;32m   2717\u001b[0m \u001b[38;5;66;03m# honest SymPy matrices defer to their class's routine\u001b[39;00m\n\u001b[1;32m   2718\u001b[0m \u001b[38;5;28;01mif\u001b[39;00m \u001b[38;5;28mgetattr\u001b[39m(other, \u001b[38;5;124m'\u001b[39m\u001b[38;5;124mis_Matrix\u001b[39m\u001b[38;5;124m'\u001b[39m, \u001b[38;5;28;01mFalse\u001b[39;00m):\n\u001b[1;32m   2719\u001b[0m     \u001b[38;5;66;03m# call the highest-priority class's _eval_add\u001b[39;00m\n",
      "\u001b[0;31mShapeError\u001b[0m: Matrix size mismatch: (3, 3) + (6, 1)"
     ]
    }
   ],
   "source": []
  },
  {
   "cell_type": "code",
   "execution_count": null,
   "metadata": {},
   "outputs": [],
   "source": [
    "pde = tau.dt - C*Dtv\n",
    "\n",
    "# Time update\n",
    "u = Eq(tau.forward, solve(pde, tau.forward))\n",
    "\n",
    "op = Operator([u])\n"
   ]
  }
 ],
 "metadata": {
  "kernelspec": {
   "display_name": "devito-python",
   "language": "python",
   "name": "devito-python"
  },
  "language_info": {
   "codemirror_mode": {
    "name": "ipython",
    "version": 3
   },
   "file_extension": ".py",
   "mimetype": "text/x-python",
   "name": "python",
   "nbconvert_exporter": "python",
   "pygments_lexer": "ipython3",
   "version": "3.9.5"
  },
  "vscode": {
   "interpreter": {
    "hash": "9eddb16221434cad45520be339b1da7c188c61988f6569a0b05785680eec6fd2"
   }
  }
 },
 "nbformat": 4,
 "nbformat_minor": 4
}
