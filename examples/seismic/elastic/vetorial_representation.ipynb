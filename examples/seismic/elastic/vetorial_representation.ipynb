{
 "cells": [
  {
   "cell_type": "markdown",
   "metadata": {},
   "source": [
    "## Tensor representado como um Vetor\n",
    "\n",
    "Dentre as diversas estruturas de dados disponibilizadas pelo DEVITO tem-se as funções tensoriais (`TensorFunction`/`TensorTimeFunction`). Esse tipo de função é representada a partir da utilização de um formato matricial.\n",
    "\n",
    "A célula abaixo mostra a inicialização de uma função tensorial, a `TensorTimeFunction`, e a sua representação em forma de Matriz."
   ]
  },
  {
   "cell_type": "code",
   "execution_count": 1,
   "metadata": {},
   "outputs": [
    {
     "data": {
      "text/latex": [
       "$\\displaystyle \\left[\\begin{matrix}\\operatorname{t_{xx}}{\\left(t,x,y,z \\right)} & \\operatorname{t_{xy}}{\\left(t,x + \\frac{h_{x}}{2},y + \\frac{h_{y}}{2},z \\right)} & \\operatorname{t_{xz}}{\\left(t,x + \\frac{h_{x}}{2},y,z + \\frac{h_{z}}{2} \\right)}\\\\\\operatorname{t_{xy}}{\\left(t,x + \\frac{h_{x}}{2},y + \\frac{h_{y}}{2},z \\right)} & \\operatorname{t_{yy}}{\\left(t,x,y,z \\right)} & \\operatorname{t_{yz}}{\\left(t,x,y + \\frac{h_{y}}{2},z + \\frac{h_{z}}{2} \\right)}\\\\\\operatorname{t_{xz}}{\\left(t,x + \\frac{h_{x}}{2},y,z + \\frac{h_{z}}{2} \\right)} & \\operatorname{t_{yz}}{\\left(t,x,y + \\frac{h_{y}}{2},z + \\frac{h_{z}}{2} \\right)} & \\operatorname{t_{zz}}{\\left(t,x,y,z \\right)}\\end{matrix}\\right]$"
      ],
      "text/plain": [
       "Matrix([\n",
       "[                t_xx(t, x, y, z), t_xy(t, x + h_x/2, y + h_y/2, z), t_xz(t, x + h_x/2, y, z + h_z/2)],\n",
       "[t_xy(t, x + h_x/2, y + h_y/2, z),                 t_yy(t, x, y, z), t_yz(t, x, y + h_y/2, z + h_z/2)],\n",
       "[t_xz(t, x + h_x/2, y, z + h_z/2), t_yz(t, x, y + h_y/2, z + h_z/2),                 t_zz(t, x, y, z)]])"
      ]
     },
     "execution_count": 1,
     "metadata": {},
     "output_type": "execute_result"
    }
   ],
   "source": [
    "from devito import TensorTimeFunction, Constant, SpaceDimension, Grid\n",
    "\n",
    "# Initial grid: 1km x 1km, with spacing 100m\n",
    "extent = (1500., 1500., 1500.)\n",
    "shape = (201, 201, 201)\n",
    "x = SpaceDimension(name='x', spacing=Constant(name='h_x', value=extent[0]/(shape[0]-1)))\n",
    "z = SpaceDimension(name='z', spacing=Constant(name='h_z', value=extent[1]/(shape[1]-1)))\n",
    "y = SpaceDimension(name='y', spacing=Constant(name='h_z', value=extent[1]/(shape[1]-1)))\n",
    "grid = Grid(extent=extent, shape=shape)\n",
    "\n",
    "so = 2\n",
    "\n",
    "tau = TensorTimeFunction(name='t', grid=grid, space_order=so, time_order=1)\n",
    "tau"
   ]
  },
  {
   "cell_type": "markdown",
   "metadata": {},
   "source": [
    "Em algumas aplicações é desejado utilizar as funções tensoriais em um formato vetorial. Essa alteração facilita a manipulação matemática necessária para a aplicação de determinadas equações geofísicas.\n",
    "\n",
    "Diante desse cenário, foi disponibilizado ao usuário a possibilidade de inicializar as funções tensoriais com uma represerntação vetorial. A definição do formato é feita a partir da flag `vec`, quando `vec = True` a função Tensor é criada no modo vetorial. A célula abaixo exemplifica isso."
   ]
  },
  {
   "cell_type": "code",
   "execution_count": 2,
   "metadata": {},
   "outputs": [
    {
     "data": {
      "text/latex": [
       "$\\displaystyle \\left[\\begin{matrix}\\operatorname{t_{xx}}{\\left(t,x,y,z \\right)}\\\\\\operatorname{t_{yy}}{\\left(t,x,y,z \\right)}\\\\\\operatorname{t_{zz}}{\\left(t,x,y,z \\right)}\\\\\\operatorname{t_{yz}}{\\left(t,x,y + \\frac{h_{y}}{2},z + \\frac{h_{z}}{2} \\right)}\\\\\\operatorname{t_{xz}}{\\left(t,x + \\frac{h_{x}}{2},y,z + \\frac{h_{z}}{2} \\right)}\\\\\\operatorname{t_{xy}}{\\left(t,x + \\frac{h_{x}}{2},y + \\frac{h_{y}}{2},z \\right)}\\end{matrix}\\right]$"
      ],
      "text/plain": [
       "Matrix([\n",
       "[                t_xx(t, x, y, z)],\n",
       "[                t_yy(t, x, y, z)],\n",
       "[                t_zz(t, x, y, z)],\n",
       "[t_yz(t, x, y + h_y/2, z + h_z/2)],\n",
       "[t_xz(t, x + h_x/2, y, z + h_z/2)],\n",
       "[t_xy(t, x + h_x/2, y + h_y/2, z)]])"
      ]
     },
     "execution_count": 2,
     "metadata": {},
     "output_type": "execute_result"
    }
   ],
   "source": [
    "tau_vec = TensorTimeFunction(name='t', grid=grid, space_order=so, time_order=1, vec=True)\n",
    "tau_vec"
   ]
  }
 ],
 "metadata": {
  "kernelspec": {
   "display_name": "Python 3",
   "language": "python",
   "name": "python3"
  },
  "language_info": {
   "codemirror_mode": {
    "name": "ipython",
    "version": 3
   },
   "file_extension": ".py",
   "mimetype": "text/x-python",
   "name": "python",
   "nbconvert_exporter": "python",
   "pygments_lexer": "ipython3",
   "version": "3.9.4"
  }
 },
 "nbformat": 4,
 "nbformat_minor": 4
}
